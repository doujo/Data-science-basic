{
 "cells": [
  {
   "cell_type": "markdown",
   "metadata": {
    "colab_type": "text",
    "id": "a9HYUdCUsrKl"
   },
   "source": [
    "<h2>Soal 1: Comparison Operator</h2>\n",
    "\n",
    "- Berikan contoh comparison dari tipe data string\n",
    "- Berikan contoh comparison dari tipe data boolean\n",
    "- Berikan contoh comparison dari tipe data integer"
   ]
  },
  {
   "cell_type": "code",
   "execution_count": 10,
   "metadata": {
    "colab": {},
    "colab_type": "code",
    "id": "lXMCHZ71srKp"
   },
   "outputs": [
    {
     "name": "stdout",
     "output_type": "stream",
     "text": [
      "Contoh comparison dari tipe data string\n",
      "petugas terdata\n",
      "\n",
      "Contoh comparison dari tipe data boolean\n",
      "bukan merupakan karyawan\n"
     ]
    }
   ],
   "source": [
    "username = \"sanber\"\n",
    "print('Contoh comparison dari tipe data string')\n",
    "if(username == 'sanber'):\n",
    "    print('petugas terdata')\n",
    "else:\n",
    "    print('petugas tidak terdata')\n",
    "\n",
    "print('\\nContoh comparison dari tipe data boolean')\n",
    "isEmployee = False\n",
    "if(isEmployee):\n",
    "    print('merupakan karyawan')\n",
    "else:\n",
    "    print('bukan merupakan karyawan')\n",
    "    \n",
    "print('\\nContoh comparison dari tipe data integer')\n",
    "if(8 > 16):\n",
    "    print('angka lebih besar dari 16')\n",
    "else:\n",
    "    print('angka lebih kecil dari 1')"
   ]
  },
  {
   "cell_type": "markdown",
   "metadata": {
    "colab_type": "text",
    "id": "IbNoZvVssrK5"
   },
   "source": [
    "<h2>Soal 2: Boolean Comparison</h2>\n",
    "\n",
    "- Berikan contoh gabungan multiple comparison menggunkan Boolean Comparisin 'and'\n",
    "- Berikan contoh gabungan multiple comparison menggunkan Boolean Comparisin 'or'\n",
    "- Berikan contoh gabungan multiple comparison menggunkan Boolean Comparisin 'not'"
   ]
  },
  {
   "cell_type": "code",
   "execution_count": 6,
   "metadata": {
    "colab": {},
    "colab_type": "code",
    "id": "7eU1vPLCsrK7"
   },
   "outputs": [
    {
     "name": "stdout",
     "output_type": "stream",
     "text": [
      "contoh gabungan multiple comparison menggunkan Boolean Comparison 'and'\n",
      "g\n",
      "\n",
      "username atau password tidak boleh kosong\n",
      "\n",
      "contoh gabungan multiple comparison menggunkan Boolean Comparisin 'or'\n",
      "redirect to administrator dashboard\n",
      "\n",
      "contoh gabungan multiple comparison menggunkan Boolean Comparisin 'not'\n",
      "validasi berhasil\n"
     ]
    }
   ],
   "source": [
    "print(\"contoh gabungan multiple comparison menggunkan Boolean Comparison 'and'\")\n",
    "username = input()\n",
    "password = input()\n",
    "if(username != '' and password != ''):\n",
    "    print('validasi akun...')\n",
    "else:\n",
    "    print('username atau password tidak boleh kosong')\n",
    "    \n",
    "print(\"\\ncontoh gabungan multiple comparison menggunkan Boolean Comparisin 'or'\")\n",
    "role = 'admin'\n",
    "if(role == 'admin' or role == 'manageer'):\n",
    "    print('redirect to administrator dashboard')\n",
    "else:\n",
    "    print('redirect to landing page')\n",
    "    \n",
    "print(\"\\ncontoh gabungan multiple comparison menggunkan Boolean Comparisin 'not'\")\n",
    "vote = 'berhasil'\n",
    "if(vote is not 'berhasil'):\n",
    "    print('validasi gagal')\n",
    "else:\n",
    "    print('validasi berhasil')"
   ]
  },
  {
   "cell_type": "markdown",
   "metadata": {
    "colab_type": "text",
    "id": "Yp_g_sPMsrLH"
   },
   "source": [
    "<h2>Soal 3: If-Else Statement</h2>\n",
    "\n",
    "Lengkapi kode untuk menghasilkan suatu output yang di harapkan\n",
    "\n",
    "- Bualah sebuah if-else statement yang dimana akan mem-print 'Besar' jika ruangan adalah 'Kamar' dan ukuran lebih dari 12, kemudian mem-print 'Sedang' jika ruangan adalah 'Kamar' dan ukuran lebih dari 6 dan memprint 'Kecil' jika ruangan adalah 'Kamar' dan ukuran ruangan lebih kecil dan sama dengan 6."
   ]
  },
  {
   "cell_type": "code",
   "execution_count": 10,
   "metadata": {
    "colab": {},
    "colab_type": "code",
    "id": "euRiRNupsrLK"
   },
   "outputs": [
    {
     "name": "stdout",
     "output_type": "stream",
     "text": [
      "Besar\n"
     ]
    }
   ],
   "source": [
    "ruangan = 'Kamar'\n",
    "size = 20\n",
    "\n",
    "if(ruangan == 'Kamar' and size > 12):\n",
    "    print('Besar')\n",
    "elif(ruangan == 'Kamar' and size > 6):\n",
    "    print('Sedang')\n",
    "elif(ruangan == 'Kamar' and size <= 6):\n",
    "    print('Kecil')"
   ]
  },
  {
   "cell_type": "markdown",
   "metadata": {
    "colab_type": "text",
    "id": "IcoJXJT1srLW"
   },
   "source": [
    "<h2>Soal 4: Comparison Operator dengan fungsi</h2>\n",
    "\n",
    "Buatlah sebuah fungsi yang menerima satu argument bertipe data numeric dan menghasilkan sebuah return sebagai berikut :\n",
    "- menghasilkan return 'Aneh' jika nilai dari argument tersebut adalah bilangan ganjil\n",
    "- menghasilkan return 'Tidak Aneh' jika nilai dari argument tersebut adalah bilangan genap dan diantara nilai 2 sampai 5 (2 dan 5 termasuk)\n",
    "- menghasilkan return 'Aneh' jika nilai dari argument tersebut adalah bilangan genap dan diantara nilai 6 sampai 20 (6 dan 20 termasuk)\n",
    "- menghasilkan return 'Tidak Aneh' jika nilai dari argument tersebut adalah bilangan genap dan lebih besari dari 20"
   ]
  },
  {
   "cell_type": "code",
   "execution_count": 12,
   "metadata": {
    "colab": {},
    "colab_type": "code",
    "id": "g8F_qfEKsrLZ"
   },
   "outputs": [
    {
     "data": {
      "text/plain": [
       "'Tidak Aneh'"
      ]
     },
     "execution_count": 12,
     "metadata": {},
     "output_type": "execute_result"
    }
   ],
   "source": [
    "# Buat fungsi\n",
    "def comparison(number):\n",
    "    if(number%2!=0):\n",
    "        return 'Aneh'\n",
    "    elif(number%2==0 and number >= 2 and number <= 5):\n",
    "        return 'Tidak Aneh'\n",
    "    elif(number%2==0 and number >= 6 and number <= 20):\n",
    "        return 'Aneh'\n",
    "    elif(number%2==0 and number > 20):\n",
    "        return 'Tidak Aneh'\n",
    "\n",
    "comparison(4)\n",
    "    "
   ]
  },
  {
   "cell_type": "markdown",
   "metadata": {
    "colab_type": "text",
    "id": "gf0D64xOsrLl"
   },
   "source": [
    "<h2>Soal 5: While Loop dan For Loop</h2>\n",
    "\n",
    "- Apa perbedaan while loop dan for loop?\n",
    "- Berikan contoh sederhana cara menggunakan while loop dan for loop"
   ]
  },
  {
   "cell_type": "code",
   "execution_count": 32,
   "metadata": {
    "colab": {},
    "colab_type": "code",
    "id": "l7KIgpjHsrLo"
   },
   "outputs": [
    {
     "name": "stdout",
     "output_type": "stream",
     "text": [
      "bulan : 4\n",
      "bulan : 5\n",
      "bulan : 6\n",
      "bulan : 7\n",
      "bulan : 8\n",
      "bulan : 9\n",
      "bulan : 10\n",
      "bulan : 11\n",
      "bulan : 12\n",
      "Bulan Januari\n",
      "Bulan Februari\n",
      "Bulan Maret\n",
      "Bulan April\n"
     ]
    }
   ],
   "source": [
    "# Tulis Kode\n",
    "# while loop : untuk membuat kondisi kode berhenti berada didalam while loop, sedangkan pada for loop kondisi kode harus berhenti terletak dibagian increment for itu sendiri\n",
    "bulan = 4\n",
    "while bulan <= 12:\n",
    "    print(f'bulan : {bulan}')\n",
    "    bulan += 1\n",
    "    \n",
    "months = ['Januari', 'Februari', 'Maret', 'April']\n",
    "for month in months:\n",
    "    print(f'Bulan {month}')"
   ]
  },
  {
   "cell_type": "markdown",
   "metadata": {
    "colab_type": "text",
    "id": "fZQpBGCgsrLz"
   },
   "source": [
    "<h2>Soal 6: While Loop</h2>\n",
    "    \n",
    "Buatlah sebuah code while loop sebagai berikut :\n",
    "- Buatlah suatu fungsi yang merima satu input nilai numeric\n",
    "- Dalam fungsi, Buat sebuah while-loop dengan melakukan comparasi terhadap inputan tersebut, dimana looping/iterasi terus berjalan apabila nilai inputan tidak sama dengan 0\n",
    "- Dalam setiap iterasi update nilai variable inputan itu, jika input lebih dari 0, maka kurangi variabel tersebut sebesar 1, selain itu tambahkan 1\n",
    "- print nilai variable input dalam setiap awal iterasi"
   ]
  },
  {
   "cell_type": "code",
   "execution_count": 29,
   "metadata": {
    "colab": {},
    "colab_type": "code",
    "id": "yOiqjrU2srL1"
   },
   "outputs": [
    {
     "name": "stdout",
     "output_type": "stream",
     "text": [
      "Variable input  10\n",
      "Variable input  9\n",
      "Variable input  8\n",
      "Variable input  7\n",
      "Variable input  6\n",
      "Variable input  5\n",
      "Variable input  4\n",
      "Variable input  3\n",
      "Variable input  2\n",
      "Variable input  1\n"
     ]
    }
   ],
   "source": [
    "a = 10\n",
    "\n",
    "def fungsi_while(inputAngka):\n",
    "    while inputAngka != 0:\n",
    "        print('Variable input ', inputAngka)\n",
    "        if(inputAngka > 0):\n",
    "            inputAngka -= 1\n",
    "        else:\n",
    "            inputAngka += 1\n",
    "\n",
    "fungsi_while(a)"
   ]
  },
  {
   "cell_type": "markdown",
   "metadata": {
    "colab_type": "text",
    "id": "lKzngRrlsrMD"
   },
   "source": [
    "Expected Output:\n",
    "\n",
    "10\n",
    "\n",
    "9\n",
    "\n",
    "8\n",
    "\n",
    "7\n",
    "\n",
    "6\n",
    "\n",
    "5\n",
    "\n",
    "4\n",
    "\n",
    "3\n",
    "\n",
    "2\n",
    "\n",
    "1"
   ]
  },
  {
   "cell_type": "markdown",
   "metadata": {
    "colab_type": "text",
    "id": "IWg3Z_zZsrMG"
   },
   "source": [
    "<h2>Soal 7: For Loop</h2>\n",
    "    \n",
    "Lengkapi kode untuk menghasilkan suatu output yang di harapkan:\n",
    "\n",
    "- Buatlah sebuah loop dengan mengiterasi sebuah objek list kemudian di kalikan dengan index dari list tersebut dan print hasilnya"
   ]
  },
  {
   "cell_type": "code",
   "execution_count": 31,
   "metadata": {
    "colab": {},
    "colab_type": "code",
    "id": "_Jl5i7WKsrMI"
   },
   "outputs": [
    {
     "name": "stdout",
     "output_type": "stream",
     "text": [
      "0\n",
      "16\n",
      "22\n",
      "30\n",
      "20\n"
     ]
    }
   ],
   "source": [
    "obj_list= [1, 16, 11, 10, 5]\n",
    "\n",
    "# lengkapi code di bawah\n",
    "for index, objek in enumerate(obj_list):\n",
    "    print(index*objek)\n"
   ]
  },
  {
   "cell_type": "markdown",
   "metadata": {
    "colab_type": "text",
    "id": "OGawROjnsrMU"
   },
   "source": [
    "Expected Output:\n",
    "\n",
    "0\n",
    "\n",
    "16\n",
    "\n",
    "22\n",
    "\n",
    "30\n",
    "\n",
    "20\n"
   ]
  }
 ],
 "metadata": {
  "colab": {
   "name": "Tugas Hari 4.ipynb",
   "provenance": []
  },
  "kernelspec": {
   "display_name": "Python 3",
   "language": "python",
   "name": "python3"
  },
  "language_info": {
   "codemirror_mode": {
    "name": "ipython",
    "version": 3
   },
   "file_extension": ".py",
   "mimetype": "text/x-python",
   "name": "python",
   "nbconvert_exporter": "python",
   "pygments_lexer": "ipython3",
   "version": "3.7.0b4"
  }
 },
 "nbformat": 4,
 "nbformat_minor": 1
}
